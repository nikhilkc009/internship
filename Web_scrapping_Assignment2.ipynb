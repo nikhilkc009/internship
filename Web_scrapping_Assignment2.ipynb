{
 "cells": [
  {
   "cell_type": "code",
   "execution_count": 1,
   "id": "91d2fe25",
   "metadata": {},
   "outputs": [
    {
     "name": "stdout",
     "output_type": "stream",
     "text": [
      "Collecting selenium\n",
      "  Downloading selenium-4.7.2-py3-none-any.whl (6.3 MB)\n",
      "     ---------------------------------------- 6.3/6.3 MB 1.1 MB/s eta 0:00:00\n",
      "Collecting trio~=0.17\n",
      "  Downloading trio-0.22.0-py3-none-any.whl (384 kB)\n",
      "     -------------------------------------- 384.9/384.9 kB 1.6 MB/s eta 0:00:00\n",
      "Requirement already satisfied: urllib3[socks]~=1.26 in c:\\users\\nikhi\\anaconda3\\lib\\site-packages (from selenium) (1.26.11)\n",
      "Requirement already satisfied: certifi>=2021.10.8 in c:\\users\\nikhi\\anaconda3\\lib\\site-packages (from selenium) (2022.9.14)\n",
      "Collecting trio-websocket~=0.9\n",
      "  Downloading trio_websocket-0.9.2-py3-none-any.whl (16 kB)\n",
      "Requirement already satisfied: sniffio in c:\\users\\nikhi\\anaconda3\\lib\\site-packages (from trio~=0.17->selenium) (1.2.0)\n",
      "Requirement already satisfied: sortedcontainers in c:\\users\\nikhi\\anaconda3\\lib\\site-packages (from trio~=0.17->selenium) (2.4.0)\n",
      "Collecting exceptiongroup>=1.0.0rc9\n",
      "  Downloading exceptiongroup-1.1.0-py3-none-any.whl (14 kB)\n",
      "Collecting async-generator>=1.9\n",
      "  Downloading async_generator-1.10-py3-none-any.whl (18 kB)\n",
      "Collecting outcome\n",
      "  Downloading outcome-1.2.0-py2.py3-none-any.whl (9.7 kB)\n",
      "Requirement already satisfied: cffi>=1.14 in c:\\users\\nikhi\\anaconda3\\lib\\site-packages (from trio~=0.17->selenium) (1.15.1)\n",
      "Requirement already satisfied: attrs>=19.2.0 in c:\\users\\nikhi\\anaconda3\\lib\\site-packages (from trio~=0.17->selenium) (21.4.0)\n",
      "Requirement already satisfied: idna in c:\\users\\nikhi\\anaconda3\\lib\\site-packages (from trio~=0.17->selenium) (3.3)\n",
      "Collecting wsproto>=0.14\n",
      "  Downloading wsproto-1.2.0-py3-none-any.whl (24 kB)\n",
      "Requirement already satisfied: PySocks!=1.5.7,<2.0,>=1.5.6 in c:\\users\\nikhi\\anaconda3\\lib\\site-packages (from urllib3[socks]~=1.26->selenium) (1.7.1)\n",
      "Requirement already satisfied: pycparser in c:\\users\\nikhi\\anaconda3\\lib\\site-packages (from cffi>=1.14->trio~=0.17->selenium) (2.21)\n",
      "Collecting h11<1,>=0.9.0\n",
      "  Downloading h11-0.14.0-py3-none-any.whl (58 kB)\n",
      "     ---------------------------------------- 58.3/58.3 kB 3.2 MB/s eta 0:00:00\n",
      "Installing collected packages: outcome, h11, exceptiongroup, async-generator, wsproto, trio, trio-websocket, selenium\n",
      "Successfully installed async-generator-1.10 exceptiongroup-1.1.0 h11-0.14.0 outcome-1.2.0 selenium-4.7.2 trio-0.22.0 trio-websocket-0.9.2 wsproto-1.2.0\n"
     ]
    }
   ],
   "source": [
    "!pip install selenium"
   ]
  },
  {
   "cell_type": "code",
   "execution_count": 1,
   "id": "97c93352",
   "metadata": {},
   "outputs": [],
   "source": [
    "import pandas as pd\n",
    "from selenium import webdriver\n",
    "import warnings\n",
    "warnings.filterwarnings('ignore')\n",
    "from selenium.webdriver.common.by import By\n",
    "import time"
   ]
  },
  {
   "cell_type": "code",
   "execution_count": 50,
   "id": "274f521a",
   "metadata": {},
   "outputs": [],
   "source": [
    "#1\n",
    "driver = webdriver.Chrome(r\"C:\\New folder\\chromedriver.exe\")"
   ]
  },
  {
   "cell_type": "code",
   "execution_count": 51,
   "id": "00a05732",
   "metadata": {},
   "outputs": [],
   "source": [
    "driver.get(\"https://www.naukri.com/\")"
   ]
  },
  {
   "cell_type": "code",
   "execution_count": 52,
   "id": "f4cf5226",
   "metadata": {},
   "outputs": [],
   "source": [
    "designation = driver.find_element(By.CLASS_NAME,'suggestor-input ')\n",
    "designation.send_keys('Data Analyst')"
   ]
  },
  {
   "cell_type": "code",
   "execution_count": 53,
   "id": "4451e823",
   "metadata": {},
   "outputs": [],
   "source": [
    "location = driver.find_element(By.XPATH,'/html/body/div[1]/div[6]/div/div/div[5]/div/div/div/input')\n",
    "location.send_keys('Banglore')"
   ]
  },
  {
   "cell_type": "code",
   "execution_count": 54,
   "id": "18c42d0c",
   "metadata": {},
   "outputs": [],
   "source": [
    "search = driver.find_element(By.CLASS_NAME,'qsbSubmit')\n",
    "search.click()"
   ]
  },
  {
   "cell_type": "code",
   "execution_count": 55,
   "id": "044a01a1",
   "metadata": {},
   "outputs": [],
   "source": [
    "Job_title = []\n",
    "Job_location = []\n",
    "Company_name = []\n",
    "Experience_required = []"
   ]
  },
  {
   "cell_type": "code",
   "execution_count": 56,
   "id": "14ee5497",
   "metadata": {},
   "outputs": [],
   "source": [
    "title_tags = driver.find_elements(By.XPATH,'//a[@class=\"title ellipsis\"]')\n",
    "for i in title_tags[0:10]:\n",
    "    Job_title.append(i.text)\n",
    "    \n",
    "location_tags = driver.find_elements(By.XPATH,'//span[@class=\"ellipsis fleft locWdth\"]')\n",
    "for i in location_tags[0:10]:\n",
    "    Job_location.append(i.text)\n",
    "    \n",
    "name_tags = driver.find_elements(By.XPATH,'//a[@class=\"subTitle ellipsis fleft\"]')\n",
    "for i in name_tags[0:10]:\n",
    "    Company_name.append(i.text)\n",
    "    \n",
    "experiance_tags = driver.find_elements(By.XPATH,'//span[@class=\"ellipsis fleft expwdth\"]')\n",
    "for i in experiance_tags[0:10]:\n",
    "    Experience_required.append(i.text)\n",
    "    "
   ]
  },
  {
   "cell_type": "code",
   "execution_count": 57,
   "id": "da747388",
   "metadata": {},
   "outputs": [
    {
     "name": "stdout",
     "output_type": "stream",
     "text": [
      "10 10 10 10\n"
     ]
    }
   ],
   "source": [
    "print(len(Job_title),len(Job_location),len(Company_name),len(Experience_required))"
   ]
  },
  {
   "cell_type": "code",
   "execution_count": 58,
   "id": "f854c565",
   "metadata": {},
   "outputs": [
    {
     "data": {
      "text/html": [
       "<div>\n",
       "<style scoped>\n",
       "    .dataframe tbody tr th:only-of-type {\n",
       "        vertical-align: middle;\n",
       "    }\n",
       "\n",
       "    .dataframe tbody tr th {\n",
       "        vertical-align: top;\n",
       "    }\n",
       "\n",
       "    .dataframe thead th {\n",
       "        text-align: right;\n",
       "    }\n",
       "</style>\n",
       "<table border=\"1\" class=\"dataframe\">\n",
       "  <thead>\n",
       "    <tr style=\"text-align: right;\">\n",
       "      <th></th>\n",
       "      <th>Job Title</th>\n",
       "      <th>Job Location</th>\n",
       "      <th>Company Name</th>\n",
       "      <th>Experience Required</th>\n",
       "    </tr>\n",
       "  </thead>\n",
       "  <tbody>\n",
       "    <tr>\n",
       "      <th>0</th>\n",
       "      <td>Business Data Analyst (Sr Exe / Asst Manager)</td>\n",
       "      <td>Bangalore/Bengaluru</td>\n",
       "      <td>Talentleads</td>\n",
       "      <td>3-5 Yrs</td>\n",
       "    </tr>\n",
       "    <tr>\n",
       "      <th>1</th>\n",
       "      <td>Junior Data Analyst/ Scientist- Fresher Position</td>\n",
       "      <td>Hybrid - New Delhi, Bangalore/Bengaluru, Mumba...</td>\n",
       "      <td>Sejal Consulting Hub</td>\n",
       "      <td>0-5 Yrs</td>\n",
       "    </tr>\n",
       "    <tr>\n",
       "      <th>2</th>\n",
       "      <td>Job Opportunity with Leading MNC - Senior Data...</td>\n",
       "      <td>Bangalore/Bengaluru</td>\n",
       "      <td>Enrich And Enlight Business Consulting</td>\n",
       "      <td>5-7 Yrs</td>\n",
       "    </tr>\n",
       "    <tr>\n",
       "      <th>3</th>\n",
       "      <td>Manager/Senior Manager - Data Analyst</td>\n",
       "      <td>Mumbai, Hyderabad/Secunderabad, Pune, Gurgaon/...</td>\n",
       "      <td>Huquo Consulting Pvt. Ltd</td>\n",
       "      <td>2-7 Yrs</td>\n",
       "    </tr>\n",
       "    <tr>\n",
       "      <th>4</th>\n",
       "      <td>Junior Data Analyst</td>\n",
       "      <td>Bangalore/Bengaluru</td>\n",
       "      <td>RCPC</td>\n",
       "      <td>0-1 Yrs</td>\n",
       "    </tr>\n",
       "    <tr>\n",
       "      <th>5</th>\n",
       "      <td>Manager - Data Analyst</td>\n",
       "      <td>Gurgaon/Gurugram, Bangalore/Bengaluru, Delhi /...</td>\n",
       "      <td>Huquo Consulting Pvt. Ltd</td>\n",
       "      <td>3-8 Yrs</td>\n",
       "    </tr>\n",
       "    <tr>\n",
       "      <th>6</th>\n",
       "      <td>Data Analysts - Compliance Surveillance</td>\n",
       "      <td>Hybrid - Bangalore/Bengaluru</td>\n",
       "      <td>Standard Chartered Bank</td>\n",
       "      <td>4-9 Yrs</td>\n",
       "    </tr>\n",
       "    <tr>\n",
       "      <th>7</th>\n",
       "      <td>Reference Data Analyst</td>\n",
       "      <td>Bangalore/Bengaluru</td>\n",
       "      <td>Deutsche Bank</td>\n",
       "      <td>2-5 Yrs</td>\n",
       "    </tr>\n",
       "    <tr>\n",
       "      <th>8</th>\n",
       "      <td>Sr Data Analyst</td>\n",
       "      <td>Hybrid - Bangalore/Bengaluru</td>\n",
       "      <td>Amolitalents</td>\n",
       "      <td>6-9 Yrs</td>\n",
       "    </tr>\n",
       "    <tr>\n",
       "      <th>9</th>\n",
       "      <td>Data Analyst / Sr. Data Analyst / Lead</td>\n",
       "      <td>Hyderabad/Secunderabad, Pune, Chennai, Gurgaon...</td>\n",
       "      <td>Client Of Logical Hiring</td>\n",
       "      <td>3-12 Yrs</td>\n",
       "    </tr>\n",
       "  </tbody>\n",
       "</table>\n",
       "</div>"
      ],
      "text/plain": [
       "                                           Job Title  \\\n",
       "0      Business Data Analyst (Sr Exe / Asst Manager)   \n",
       "1   Junior Data Analyst/ Scientist- Fresher Position   \n",
       "2  Job Opportunity with Leading MNC - Senior Data...   \n",
       "3              Manager/Senior Manager - Data Analyst   \n",
       "4                                Junior Data Analyst   \n",
       "5                             Manager - Data Analyst   \n",
       "6            Data Analysts - Compliance Surveillance   \n",
       "7                             Reference Data Analyst   \n",
       "8                                    Sr Data Analyst   \n",
       "9             Data Analyst / Sr. Data Analyst / Lead   \n",
       "\n",
       "                                        Job Location  \\\n",
       "0                                Bangalore/Bengaluru   \n",
       "1  Hybrid - New Delhi, Bangalore/Bengaluru, Mumba...   \n",
       "2                                Bangalore/Bengaluru   \n",
       "3  Mumbai, Hyderabad/Secunderabad, Pune, Gurgaon/...   \n",
       "4                                Bangalore/Bengaluru   \n",
       "5  Gurgaon/Gurugram, Bangalore/Bengaluru, Delhi /...   \n",
       "6                       Hybrid - Bangalore/Bengaluru   \n",
       "7                                Bangalore/Bengaluru   \n",
       "8                       Hybrid - Bangalore/Bengaluru   \n",
       "9  Hyderabad/Secunderabad, Pune, Chennai, Gurgaon...   \n",
       "\n",
       "                             Company Name Experience Required  \n",
       "0                             Talentleads             3-5 Yrs  \n",
       "1                    Sejal Consulting Hub             0-5 Yrs  \n",
       "2  Enrich And Enlight Business Consulting             5-7 Yrs  \n",
       "3               Huquo Consulting Pvt. Ltd             2-7 Yrs  \n",
       "4                                    RCPC             0-1 Yrs  \n",
       "5               Huquo Consulting Pvt. Ltd             3-8 Yrs  \n",
       "6                 Standard Chartered Bank             4-9 Yrs  \n",
       "7                           Deutsche Bank             2-5 Yrs  \n",
       "8                            Amolitalents             6-9 Yrs  \n",
       "9                Client Of Logical Hiring            3-12 Yrs  "
      ]
     },
     "execution_count": 58,
     "metadata": {},
     "output_type": "execute_result"
    }
   ],
   "source": [
    "df = pd.DataFrame({'Job Title':Job_title,'Job Location':Job_location,'Company Name':Company_name,'Experience Required':Experience_required})\n",
    "df"
   ]
  },
  {
   "cell_type": "code",
   "execution_count": 77,
   "id": "b6f2c258",
   "metadata": {},
   "outputs": [],
   "source": [
    "#2\n",
    "driver = webdriver.Chrome(r\"C:\\New folder\\chromedriver.exe\")"
   ]
  },
  {
   "cell_type": "code",
   "execution_count": 78,
   "id": "91a65f66",
   "metadata": {},
   "outputs": [],
   "source": [
    "driver.get(\"https://www.naukri.com/\")"
   ]
  },
  {
   "cell_type": "code",
   "execution_count": 79,
   "id": "dbf613f5",
   "metadata": {},
   "outputs": [],
   "source": [
    "designation = driver.find_element(By.CLASS_NAME,'suggestor-input ')\n",
    "designation.send_keys('Data Scientist')"
   ]
  },
  {
   "cell_type": "code",
   "execution_count": 80,
   "id": "413366a8",
   "metadata": {},
   "outputs": [],
   "source": [
    "location = driver.find_element(By.XPATH,'/html/body/div[1]/div[6]/div/div/div[5]/div/div/div/input')\n",
    "location.send_keys('Banglore')"
   ]
  },
  {
   "cell_type": "code",
   "execution_count": 81,
   "id": "4e8a3941",
   "metadata": {},
   "outputs": [],
   "source": [
    "search = driver.find_element(By.CLASS_NAME,'qsbSubmit')\n",
    "search.click()"
   ]
  },
  {
   "cell_type": "code",
   "execution_count": 82,
   "id": "77d3efc6",
   "metadata": {},
   "outputs": [],
   "source": [
    "DSJob_title = []\n",
    "DSJob_location = []\n",
    "DSCompany_name = []"
   ]
  },
  {
   "cell_type": "code",
   "execution_count": 83,
   "id": "d6bb6366",
   "metadata": {},
   "outputs": [],
   "source": [
    "DStitle_tags = driver.find_elements(By.XPATH,'//a[@class=\"title ellipsis\"]')\n",
    "for i in DStitle_tags[0:10]:\n",
    "    DSJob_title.append(i.text)\n",
    "    \n",
    "DSlocation_tags = driver.find_elements(By.XPATH,'//span[@class=\"ellipsis fleft locWdth\"]')\n",
    "for i in DSlocation_tags[0:10]:\n",
    "    DSJob_location.append(i.text)\n",
    "    \n",
    "DSname_tags = driver.find_elements(By.XPATH,'//a[@class=\"subTitle ellipsis fleft\"]')\n",
    "for i in DSname_tags[0:10]:\n",
    "    DSCompany_name.append(i.text)"
   ]
  },
  {
   "cell_type": "code",
   "execution_count": 84,
   "id": "40b07ddc",
   "metadata": {},
   "outputs": [
    {
     "name": "stdout",
     "output_type": "stream",
     "text": [
      "10 10 10\n"
     ]
    }
   ],
   "source": [
    "print(len(DSJob_title),len(DSJob_location),len(DSCompany_name))"
   ]
  },
  {
   "cell_type": "code",
   "execution_count": 85,
   "id": "3394f5c1",
   "metadata": {},
   "outputs": [
    {
     "data": {
      "text/html": [
       "<div>\n",
       "<style scoped>\n",
       "    .dataframe tbody tr th:only-of-type {\n",
       "        vertical-align: middle;\n",
       "    }\n",
       "\n",
       "    .dataframe tbody tr th {\n",
       "        vertical-align: top;\n",
       "    }\n",
       "\n",
       "    .dataframe thead th {\n",
       "        text-align: right;\n",
       "    }\n",
       "</style>\n",
       "<table border=\"1\" class=\"dataframe\">\n",
       "  <thead>\n",
       "    <tr style=\"text-align: right;\">\n",
       "      <th></th>\n",
       "      <th>Job Title</th>\n",
       "      <th>Job Location</th>\n",
       "      <th>Company Name</th>\n",
       "    </tr>\n",
       "  </thead>\n",
       "  <tbody>\n",
       "    <tr>\n",
       "      <th>0</th>\n",
       "      <td>Data Scientist</td>\n",
       "      <td>Noida, Kolkata, Mumbai, Hyderabad/Secunderabad...</td>\n",
       "      <td>Capgemini</td>\n",
       "    </tr>\n",
       "    <tr>\n",
       "      <th>1</th>\n",
       "      <td>Data Scientist</td>\n",
       "      <td>Temp. WFH - Hyderabad/Secunderabad, Pune, Chen...</td>\n",
       "      <td>Tech Mahindra</td>\n",
       "    </tr>\n",
       "    <tr>\n",
       "      <th>2</th>\n",
       "      <td>Data Science Specialist</td>\n",
       "      <td>Kolkata, Mumbai, Hyderabad/Secunderabad, Pune,...</td>\n",
       "      <td>Accenture</td>\n",
       "    </tr>\n",
       "    <tr>\n",
       "      <th>3</th>\n",
       "      <td>Analystics &amp; Modeling Specialist</td>\n",
       "      <td>Kolkata, Mumbai, Hyderabad/Secunderabad, Pune,...</td>\n",
       "      <td>Accenture</td>\n",
       "    </tr>\n",
       "    <tr>\n",
       "      <th>4</th>\n",
       "      <td>Lead Data Scientist</td>\n",
       "      <td>Noida, Hyderabad/Secunderabad, Pune, Chennai, ...</td>\n",
       "      <td>Birlasoft</td>\n",
       "    </tr>\n",
       "    <tr>\n",
       "      <th>5</th>\n",
       "      <td>Data Scientist</td>\n",
       "      <td>Hybrid - Noida, Hyderabad/Secunderabad, Pune, ...</td>\n",
       "      <td>Birlasoft</td>\n",
       "    </tr>\n",
       "    <tr>\n",
       "      <th>6</th>\n",
       "      <td>Data Scientist Knowledge graph</td>\n",
       "      <td>Hybrid - Pune, Bangalore/Bengaluru</td>\n",
       "      <td>Capco</td>\n",
       "    </tr>\n",
       "    <tr>\n",
       "      <th>7</th>\n",
       "      <td>Data Scientist</td>\n",
       "      <td>Bangalore/Bengaluru</td>\n",
       "      <td>Infosys</td>\n",
       "    </tr>\n",
       "    <tr>\n",
       "      <th>8</th>\n",
       "      <td>Supply Chain Specialist Staff</td>\n",
       "      <td>Bangalore/Bengaluru</td>\n",
       "      <td>Juniper Networks</td>\n",
       "    </tr>\n",
       "    <tr>\n",
       "      <th>9</th>\n",
       "      <td>Research Scientist</td>\n",
       "      <td>Bangalore/Bengaluru</td>\n",
       "      <td>Siemens</td>\n",
       "    </tr>\n",
       "  </tbody>\n",
       "</table>\n",
       "</div>"
      ],
      "text/plain": [
       "                          Job Title  \\\n",
       "0                    Data Scientist   \n",
       "1                    Data Scientist   \n",
       "2           Data Science Specialist   \n",
       "3  Analystics & Modeling Specialist   \n",
       "4               Lead Data Scientist   \n",
       "5                    Data Scientist   \n",
       "6    Data Scientist Knowledge graph   \n",
       "7                    Data Scientist   \n",
       "8     Supply Chain Specialist Staff   \n",
       "9                Research Scientist   \n",
       "\n",
       "                                        Job Location      Company Name  \n",
       "0  Noida, Kolkata, Mumbai, Hyderabad/Secunderabad...         Capgemini  \n",
       "1  Temp. WFH - Hyderabad/Secunderabad, Pune, Chen...     Tech Mahindra  \n",
       "2  Kolkata, Mumbai, Hyderabad/Secunderabad, Pune,...         Accenture  \n",
       "3  Kolkata, Mumbai, Hyderabad/Secunderabad, Pune,...         Accenture  \n",
       "4  Noida, Hyderabad/Secunderabad, Pune, Chennai, ...         Birlasoft  \n",
       "5  Hybrid - Noida, Hyderabad/Secunderabad, Pune, ...         Birlasoft  \n",
       "6                 Hybrid - Pune, Bangalore/Bengaluru             Capco  \n",
       "7                                Bangalore/Bengaluru           Infosys  \n",
       "8                                Bangalore/Bengaluru  Juniper Networks  \n",
       "9                                Bangalore/Bengaluru           Siemens  "
      ]
     },
     "execution_count": 85,
     "metadata": {},
     "output_type": "execute_result"
    }
   ],
   "source": [
    "df = pd.DataFrame({'Job Title':DSJob_title,'Job Location':DSJob_location,'Company Name':DSCompany_name})\n",
    "df"
   ]
  },
  {
   "cell_type": "code",
   "execution_count": 86,
   "id": "e7c5c721",
   "metadata": {},
   "outputs": [],
   "source": [
    "#3\n",
    "driver = webdriver.Chrome(r'C:\\New folder\\webdriver.exe')"
   ]
  },
  {
   "cell_type": "code",
   "execution_count": 87,
   "id": "ac8628a7",
   "metadata": {},
   "outputs": [],
   "source": [
    "driver.get('http://www.naukri.com/')"
   ]
  },
  {
   "cell_type": "code",
   "execution_count": 88,
   "id": "dadcdb22",
   "metadata": {},
   "outputs": [],
   "source": [
    "designation = driver.find_element(By.CLASS_NAME,'suggestor-input ')\n",
    "designation.send_keys('Data Scientist')"
   ]
  },
  {
   "cell_type": "code",
   "execution_count": 89,
   "id": "52311909",
   "metadata": {},
   "outputs": [],
   "source": [
    "location = driver.find_element(By.XPATH,'/html/body/div[1]/div[6]/div/div/div[5]/div/div/div/input')\n",
    "location.send_keys('Delhi/NCR')"
   ]
  },
  {
   "cell_type": "code",
   "execution_count": 90,
   "id": "a0a3ab14",
   "metadata": {},
   "outputs": [],
   "source": [
    "search = driver.find_element(By.CLASS_NAME,'qsbSubmit')\n",
    "search.click()"
   ]
  },
  {
   "cell_type": "code",
   "execution_count": 91,
   "id": "e33b0eac",
   "metadata": {},
   "outputs": [],
   "source": [
    "salary = driver.find_element(By.XPATH,'/html/body/div[1]/div[4]/div/div/section[1]/div[2]/div[5]/div[2]/div[2]/label/p/span[1]')\n",
    "salary.click()"
   ]
  },
  {
   "cell_type": "code",
   "execution_count": 92,
   "id": "6a566d5e",
   "metadata": {},
   "outputs": [],
   "source": [
    "DJob_title = []\n",
    "DJob_loc = []\n",
    "DCOm_name = []\n",
    "DJob_experience = []"
   ]
  },
  {
   "cell_type": "code",
   "execution_count": 93,
   "id": "2acc8c8f",
   "metadata": {},
   "outputs": [],
   "source": [
    "Djobtitle = driver.find_elements(By.XPATH,'//a[@class=\"title ellipsis\"]')\n",
    "for i in Djobtitle[0:10]:\n",
    "    DJob_title.append(i.text)\n",
    "    \n",
    "Djoblocation = driver.find_elements(By.XPATH,'//span[@class=\"ellipsis fleft locWdth\"]')\n",
    "for i in Djoblocation[0:10]:\n",
    "    DJob_loc.append(i.text)\n",
    "    \n",
    "Dcompanyname = driver.find_elements(By.XPATH,'//a[@class=\"subTitle ellipsis fleft\"]')\n",
    "for i in Dcompanyname[0:10]:\n",
    "    DCOm_name.append(i.text)\n",
    "    \n",
    "Dexperience = driver.find_elements(By.XPATH,'//span[@class=\"ellipsis fleft expwdth\"]')\n",
    "for i in Dexperience[0:10]:\n",
    "    DJob_experience.append(i.text)"
   ]
  },
  {
   "cell_type": "code",
   "execution_count": 94,
   "id": "e62a8eea",
   "metadata": {},
   "outputs": [
    {
     "name": "stdout",
     "output_type": "stream",
     "text": [
      "10 10 10 10\n"
     ]
    }
   ],
   "source": [
    "print(len(DJob_title),len(DJob_loc),len(DCOm_name),len(DJob_experience))"
   ]
  },
  {
   "cell_type": "code",
   "execution_count": 95,
   "id": "6a5963b8",
   "metadata": {},
   "outputs": [
    {
     "data": {
      "text/html": [
       "<div>\n",
       "<style scoped>\n",
       "    .dataframe tbody tr th:only-of-type {\n",
       "        vertical-align: middle;\n",
       "    }\n",
       "\n",
       "    .dataframe tbody tr th {\n",
       "        vertical-align: top;\n",
       "    }\n",
       "\n",
       "    .dataframe thead th {\n",
       "        text-align: right;\n",
       "    }\n",
       "</style>\n",
       "<table border=\"1\" class=\"dataframe\">\n",
       "  <thead>\n",
       "    <tr style=\"text-align: right;\">\n",
       "      <th></th>\n",
       "      <th>Job title</th>\n",
       "      <th>Location</th>\n",
       "      <th>Company</th>\n",
       "      <th>Experience</th>\n",
       "    </tr>\n",
       "  </thead>\n",
       "  <tbody>\n",
       "    <tr>\n",
       "      <th>0</th>\n",
       "      <td>Data Science Specialist</td>\n",
       "      <td>Kolkata, Mumbai, Hyderabad/Secunderabad, Pune,...</td>\n",
       "      <td>Accenture</td>\n",
       "      <td>2-4 Yrs</td>\n",
       "    </tr>\n",
       "    <tr>\n",
       "      <th>1</th>\n",
       "      <td>Data Scientist</td>\n",
       "      <td>Bangalore/Bengaluru</td>\n",
       "      <td>Infosys</td>\n",
       "      <td>3-5 Yrs</td>\n",
       "    </tr>\n",
       "    <tr>\n",
       "      <th>2</th>\n",
       "      <td>Data Scientist - NLP (looking For early joiners)</td>\n",
       "      <td>Temp. WFH - Pune, Chennai, Bangalore/Bengaluru</td>\n",
       "      <td>Wipro</td>\n",
       "      <td>4-9 Yrs</td>\n",
       "    </tr>\n",
       "    <tr>\n",
       "      <th>3</th>\n",
       "      <td>Software Engineer Staff</td>\n",
       "      <td>Bangalore/Bengaluru</td>\n",
       "      <td>Juniper Networks</td>\n",
       "      <td>3-8 Yrs</td>\n",
       "    </tr>\n",
       "    <tr>\n",
       "      <th>4</th>\n",
       "      <td>Technology Analyst - Data Science / Machine Le...</td>\n",
       "      <td>Bangalore/Bengaluru</td>\n",
       "      <td>Infosys</td>\n",
       "      <td>3-5 Yrs</td>\n",
       "    </tr>\n",
       "    <tr>\n",
       "      <th>5</th>\n",
       "      <td>Data Scientist/Sr. Data Scientist</td>\n",
       "      <td>Bangalore/Bengaluru</td>\n",
       "      <td>Synechron</td>\n",
       "      <td>5-10 Yrs</td>\n",
       "    </tr>\n",
       "    <tr>\n",
       "      <th>6</th>\n",
       "      <td>Analyst-Data Science</td>\n",
       "      <td>Gurgaon/Gurugram</td>\n",
       "      <td>AMERICAN EXPRESS</td>\n",
       "      <td>0-3 Yrs</td>\n",
       "    </tr>\n",
       "    <tr>\n",
       "      <th>7</th>\n",
       "      <td>Data Scientist - 2</td>\n",
       "      <td>Bangalore/Bengaluru</td>\n",
       "      <td>24 7 ai</td>\n",
       "      <td>1-3 Yrs</td>\n",
       "    </tr>\n",
       "    <tr>\n",
       "      <th>8</th>\n",
       "      <td>SnapLogic Data Science Practitioner</td>\n",
       "      <td>Mumbai</td>\n",
       "      <td>Accenture</td>\n",
       "      <td>2-4 Yrs</td>\n",
       "    </tr>\n",
       "    <tr>\n",
       "      <th>9</th>\n",
       "      <td>Analyst - Data Scientist</td>\n",
       "      <td>Mumbai</td>\n",
       "      <td>UPL Limited</td>\n",
       "      <td>2-3 Yrs</td>\n",
       "    </tr>\n",
       "  </tbody>\n",
       "</table>\n",
       "</div>"
      ],
      "text/plain": [
       "                                           Job title  \\\n",
       "0                            Data Science Specialist   \n",
       "1                                     Data Scientist   \n",
       "2   Data Scientist - NLP (looking For early joiners)   \n",
       "3                            Software Engineer Staff   \n",
       "4  Technology Analyst - Data Science / Machine Le...   \n",
       "5                  Data Scientist/Sr. Data Scientist   \n",
       "6                               Analyst-Data Science   \n",
       "7                                 Data Scientist - 2   \n",
       "8                SnapLogic Data Science Practitioner   \n",
       "9                           Analyst - Data Scientist   \n",
       "\n",
       "                                            Location           Company  \\\n",
       "0  Kolkata, Mumbai, Hyderabad/Secunderabad, Pune,...         Accenture   \n",
       "1                                Bangalore/Bengaluru           Infosys   \n",
       "2     Temp. WFH - Pune, Chennai, Bangalore/Bengaluru             Wipro   \n",
       "3                                Bangalore/Bengaluru  Juniper Networks   \n",
       "4                                Bangalore/Bengaluru           Infosys   \n",
       "5                                Bangalore/Bengaluru         Synechron   \n",
       "6                                   Gurgaon/Gurugram  AMERICAN EXPRESS   \n",
       "7                                Bangalore/Bengaluru           24 7 ai   \n",
       "8                                             Mumbai         Accenture   \n",
       "9                                             Mumbai       UPL Limited   \n",
       "\n",
       "  Experience  \n",
       "0    2-4 Yrs  \n",
       "1    3-5 Yrs  \n",
       "2    4-9 Yrs  \n",
       "3    3-8 Yrs  \n",
       "4    3-5 Yrs  \n",
       "5   5-10 Yrs  \n",
       "6    0-3 Yrs  \n",
       "7    1-3 Yrs  \n",
       "8    2-4 Yrs  \n",
       "9    2-3 Yrs  "
      ]
     },
     "execution_count": 95,
     "metadata": {},
     "output_type": "execute_result"
    }
   ],
   "source": [
    "df = pd.DataFrame({'Job title':DJob_title,'Location':DJob_loc,'Company':DCOm_name,'Experience':DJob_experience})\n",
    "df"
   ]
  },
  {
   "cell_type": "code",
   "execution_count": 141,
   "id": "6b095732",
   "metadata": {},
   "outputs": [],
   "source": [
    "#4\n",
    "driver = webdriver.Chrome(r'C:\\New folder\\webdriver.exe')"
   ]
  },
  {
   "cell_type": "code",
   "execution_count": 142,
   "id": "79f83fbe",
   "metadata": {},
   "outputs": [],
   "source": [
    "driver.get('http://www.flipkart.com/')"
   ]
  },
  {
   "cell_type": "code",
   "execution_count": 143,
   "id": "e20ffb78",
   "metadata": {},
   "outputs": [],
   "source": [
    "product = driver.find_element(By.CLASS_NAME,'_3704LK')\n",
    "product.send_keys('Sunglasses')"
   ]
  },
  {
   "cell_type": "code",
   "execution_count": 144,
   "id": "92df32e2",
   "metadata": {},
   "outputs": [],
   "source": [
    "#close = driver.find_element(By.CLASS_NAME,'_2KpZ6l _2doB4z')\n",
    "#close.click()"
   ]
  },
  {
   "cell_type": "code",
   "execution_count": 150,
   "id": "b3d5881a",
   "metadata": {},
   "outputs": [],
   "source": [
    "search = driver.find_element(By.CLASS_NAME,'L0Z3Pu')\n",
    "search.click()"
   ]
  },
  {
   "cell_type": "code",
   "execution_count": 151,
   "id": "223ab9fb",
   "metadata": {},
   "outputs": [],
   "source": [
    "Brand = []\n",
    "Product_discription = []\n",
    "Price = []"
   ]
  },
  {
   "cell_type": "code",
   "execution_count": 152,
   "id": "96b31158",
   "metadata": {},
   "outputs": [],
   "source": [
    "start = 0 \n",
    "end = 3\n",
    "for page in range(start,end):\n",
    "    brand_name = driver.find_elements(By.XPATH,'//div[@class=\"_2WkVRV\"]')\n",
    "    for i in brand_name:\n",
    "        Brand.append(i.text)\n",
    "    next_button = driver.find_element(By.XPATH,'//a[@class=\"_1LKTO3\"]')\n",
    "    next_button.click()\n",
    "    time.sleep(3)\n",
    "    \n",
    "    \n",
    "for page in range(start,end):\n",
    "    pro_dis = driver.find_elements(By.XPATH,'//a[@class=\"IRpwTa\"]')\n",
    "    for i in pro_dis:\n",
    "        Product_discription.append(i.text)\n",
    "    next_button = driver.find_element(By.XPATH,'//a[@class=\"_1LKTO3\"]')\n",
    "    next_button.click()\n",
    "    time.sleep(3)\n",
    "for page in range(start,end):\n",
    "    pro_dis = driver.find_elements(By.XPATH,'//a[@class=\"IRpwTa _2-ICcC\"]')\n",
    "    for i in pro_dis:\n",
    "        Product_discription.append(i.text)\n",
    "    next_button = driver.find_element(By.XPATH,'//a[@class=\"_1LKTO3\"]')\n",
    "    next_button.click()\n",
    "    time.sleep(3)\n",
    "\n",
    "    \n",
    "for page in range(start,end):\n",
    "    price = driver.find_elements(By.XPATH,'//div[@class=\"_30jeq3\"]')\n",
    "    for i in price:\n",
    "        Price.append(i.text)\n",
    "    next_button = driver.find_element(By.XPATH,'//a[@class=\"_1LKTO3\"]')\n",
    "    next_button.click()\n",
    "    time.sleep(3)\n",
    "    "
   ]
  },
  {
   "cell_type": "code",
   "execution_count": 153,
   "id": "c73e7e41",
   "metadata": {},
   "outputs": [
    {
     "name": "stdout",
     "output_type": "stream",
     "text": [
      "120 120 120\n"
     ]
    }
   ],
   "source": [
    "print(len(Brand),len(Product_discription),len(Price))"
   ]
  },
  {
   "cell_type": "code",
   "execution_count": 157,
   "id": "ab1cf9b4",
   "metadata": {},
   "outputs": [
    {
     "data": {
      "text/html": [
       "<div>\n",
       "<style scoped>\n",
       "    .dataframe tbody tr th:only-of-type {\n",
       "        vertical-align: middle;\n",
       "    }\n",
       "\n",
       "    .dataframe tbody tr th {\n",
       "        vertical-align: top;\n",
       "    }\n",
       "\n",
       "    .dataframe thead th {\n",
       "        text-align: right;\n",
       "    }\n",
       "</style>\n",
       "<table border=\"1\" class=\"dataframe\">\n",
       "  <thead>\n",
       "    <tr style=\"text-align: right;\">\n",
       "      <th></th>\n",
       "      <th>Brand</th>\n",
       "      <th>Product discription</th>\n",
       "      <th>Price</th>\n",
       "    </tr>\n",
       "  </thead>\n",
       "  <tbody>\n",
       "    <tr>\n",
       "      <th>0</th>\n",
       "      <td>VINCENT CHASE</td>\n",
       "      <td>Polarized Retro Square Sunglasses (Free Size)</td>\n",
       "      <td>₹519</td>\n",
       "    </tr>\n",
       "    <tr>\n",
       "      <th>1</th>\n",
       "      <td>ROZZETTA CRAFT</td>\n",
       "      <td>UV Protection Retro Square Sunglasses (54)</td>\n",
       "      <td>₹258</td>\n",
       "    </tr>\n",
       "    <tr>\n",
       "      <th>2</th>\n",
       "      <td>Fastrack</td>\n",
       "      <td>Night Vision, Polarized, UV Protection, Riding...</td>\n",
       "      <td>₹281</td>\n",
       "    </tr>\n",
       "    <tr>\n",
       "      <th>3</th>\n",
       "      <td>Elligator</td>\n",
       "      <td>UV Protection, Gradient Rectangular Sunglasses...</td>\n",
       "      <td>₹399</td>\n",
       "    </tr>\n",
       "    <tr>\n",
       "      <th>4</th>\n",
       "      <td>Fastrack</td>\n",
       "      <td>by Lenskart Polarized, UV Protection Aviator S...</td>\n",
       "      <td>₹579</td>\n",
       "    </tr>\n",
       "    <tr>\n",
       "      <th>...</th>\n",
       "      <td>...</td>\n",
       "      <td>...</td>\n",
       "      <td>...</td>\n",
       "    </tr>\n",
       "    <tr>\n",
       "      <th>95</th>\n",
       "      <td>Resist</td>\n",
       "      <td>Polarized Wayfarer Sunglasses (Free Size)</td>\n",
       "      <td>₹649</td>\n",
       "    </tr>\n",
       "    <tr>\n",
       "      <th>96</th>\n",
       "      <td>PIRASO</td>\n",
       "      <td>by Lenskart Polarized, UV Protection Aviator S...</td>\n",
       "      <td>₹199</td>\n",
       "    </tr>\n",
       "    <tr>\n",
       "      <th>97</th>\n",
       "      <td>Fastrack</td>\n",
       "      <td>UV Protection, Night Vision Retro Square Sungl...</td>\n",
       "      <td>₹386</td>\n",
       "    </tr>\n",
       "    <tr>\n",
       "      <th>98</th>\n",
       "      <td>PIRASO</td>\n",
       "      <td>by Lenskart Polarized, UV Protection Aviator S...</td>\n",
       "      <td>₹159</td>\n",
       "    </tr>\n",
       "    <tr>\n",
       "      <th>99</th>\n",
       "      <td>ROZZETTA CRAFT</td>\n",
       "      <td>Riding Glasses, Toughened Glass Lens, UV Prote...</td>\n",
       "      <td>₹664</td>\n",
       "    </tr>\n",
       "  </tbody>\n",
       "</table>\n",
       "<p>100 rows × 3 columns</p>\n",
       "</div>"
      ],
      "text/plain": [
       "             Brand                                Product discription Price\n",
       "0    VINCENT CHASE      Polarized Retro Square Sunglasses (Free Size)  ₹519\n",
       "1   ROZZETTA CRAFT         UV Protection Retro Square Sunglasses (54)  ₹258\n",
       "2         Fastrack  Night Vision, Polarized, UV Protection, Riding...  ₹281\n",
       "3        Elligator  UV Protection, Gradient Rectangular Sunglasses...  ₹399\n",
       "4         Fastrack  by Lenskart Polarized, UV Protection Aviator S...  ₹579\n",
       "..             ...                                                ...   ...\n",
       "95          Resist          Polarized Wayfarer Sunglasses (Free Size)  ₹649\n",
       "96          PIRASO  by Lenskart Polarized, UV Protection Aviator S...  ₹199\n",
       "97        Fastrack  UV Protection, Night Vision Retro Square Sungl...  ₹386\n",
       "98          PIRASO  by Lenskart Polarized, UV Protection Aviator S...  ₹159\n",
       "99  ROZZETTA CRAFT  Riding Glasses, Toughened Glass Lens, UV Prote...  ₹664\n",
       "\n",
       "[100 rows x 3 columns]"
      ]
     },
     "execution_count": 157,
     "metadata": {},
     "output_type": "execute_result"
    }
   ],
   "source": [
    "df = pd.DataFrame({'Brand':Brand[0:100],'Product discription':Product_discription[0:100],'Price':Price[0:100]})\n",
    "df"
   ]
  },
  {
   "cell_type": "code",
   "execution_count": 37,
   "id": "deb1f0c8",
   "metadata": {},
   "outputs": [],
   "source": [
    "#5\n",
    "driver = webdriver.Chrome(r\"C:\\New folder\\chromedriver.exe\")"
   ]
  },
  {
   "cell_type": "code",
   "execution_count": 10,
   "id": "1a6b4ee9",
   "metadata": {},
   "outputs": [],
   "source": [
    "driver.get('https://www.flipkart.com/apple-iphone-11-black-64-gb-includes-earpods-power-adapter/product-reviews/itm0f37c2240b217?pid=MOBFKCTSVZAXUHGR&lid=LSTMOBFKCTSVZAXUHGREPBFGI&marketplace=FLIPKART')"
   ]
  },
  {
   "cell_type": "code",
   "execution_count": 23,
   "id": "edb70733",
   "metadata": {},
   "outputs": [],
   "source": [
    "Rating = []\n",
    "Review_summary = []\n",
    "Full_review = []"
   ]
  },
  {
   "cell_type": "code",
   "execution_count": 24,
   "id": "42cf3986",
   "metadata": {},
   "outputs": [],
   "source": [
    "start = 0\n",
    "end = 10\n",
    "for page in range(start,end):\n",
    "    rating = driver.find_elements(By.XPATH,'//div[@class=\"_3LWZlK _1BLPMq\"]')\n",
    "    for i in rating:\n",
    "        Rating.append(i.text)\n",
    "    next_button = driver.find_element(By.XPATH,'//a[@class=\"_1LKTO3\"]')\n",
    "    next_button.click()\n",
    "    time.sleep(5)\n",
    "    \n",
    "    \n",
    "for page in range(start,end):\n",
    "    rev_sum = driver.find_elements(By.XPATH,'//p[@class=\"_2-N8zT\"]')\n",
    "    for i in rev_sum:\n",
    "        Review_summary.append(i.text)\n",
    "    next_button = driver.find_element(By.XPATH,'//a[@class=\"_1LKTO3\"]')\n",
    "    next_button.click()\n",
    "    time.sleep(5)\n",
    "    \n",
    "for page in range(start,end):\n",
    "    review = driver.find_elements(By.XPATH,'//div[@class=\"t-ZTKy\"]')\n",
    "    for i in review:\n",
    "        Full_review.append(i.text)\n",
    "    next_button = driver.find_element(By.XPATH,'//a[@class=\"_1LKTO3\"]')\n",
    "    next_button.click()\n",
    "    time.sleep(5)\n",
    "        "
   ]
  },
  {
   "cell_type": "code",
   "execution_count": 25,
   "id": "24179ece",
   "metadata": {},
   "outputs": [
    {
     "name": "stdout",
     "output_type": "stream",
     "text": [
      "100 100 100\n"
     ]
    }
   ],
   "source": [
    "print(len(Rating),len(Review_summary),len(Full_review))"
   ]
  },
  {
   "cell_type": "code",
   "execution_count": 26,
   "id": "6564de54",
   "metadata": {},
   "outputs": [
    {
     "data": {
      "text/html": [
       "<div>\n",
       "<style scoped>\n",
       "    .dataframe tbody tr th:only-of-type {\n",
       "        vertical-align: middle;\n",
       "    }\n",
       "\n",
       "    .dataframe tbody tr th {\n",
       "        vertical-align: top;\n",
       "    }\n",
       "\n",
       "    .dataframe thead th {\n",
       "        text-align: right;\n",
       "    }\n",
       "</style>\n",
       "<table border=\"1\" class=\"dataframe\">\n",
       "  <thead>\n",
       "    <tr style=\"text-align: right;\">\n",
       "      <th></th>\n",
       "      <th>Rating</th>\n",
       "      <th>Review Summary</th>\n",
       "      <th>Full Review</th>\n",
       "    </tr>\n",
       "  </thead>\n",
       "  <tbody>\n",
       "    <tr>\n",
       "      <th>0</th>\n",
       "      <td>5</td>\n",
       "      <td>Simply awesome</td>\n",
       "      <td>Really satisfied with the Product I received.....</td>\n",
       "    </tr>\n",
       "    <tr>\n",
       "      <th>1</th>\n",
       "      <td>5</td>\n",
       "      <td>Perfect product!</td>\n",
       "      <td>Amazing phone with great cameras and better ba...</td>\n",
       "    </tr>\n",
       "    <tr>\n",
       "      <th>2</th>\n",
       "      <td>5</td>\n",
       "      <td>Best in the market!</td>\n",
       "      <td>Great iPhone very snappy experience as apple k...</td>\n",
       "    </tr>\n",
       "    <tr>\n",
       "      <th>3</th>\n",
       "      <td>4</td>\n",
       "      <td>Value-for-money</td>\n",
       "      <td>I'm Really happy with the product\\nDelivery wa...</td>\n",
       "    </tr>\n",
       "    <tr>\n",
       "      <th>4</th>\n",
       "      <td>5</td>\n",
       "      <td>Highly recommended</td>\n",
       "      <td>It's my first time to use iOS phone and I am l...</td>\n",
       "    </tr>\n",
       "    <tr>\n",
       "      <th>...</th>\n",
       "      <td>...</td>\n",
       "      <td>...</td>\n",
       "      <td>...</td>\n",
       "    </tr>\n",
       "    <tr>\n",
       "      <th>95</th>\n",
       "      <td>4</td>\n",
       "      <td>Good choice</td>\n",
       "      <td>So far it’s been an AMAZING experience coming ...</td>\n",
       "    </tr>\n",
       "    <tr>\n",
       "      <th>96</th>\n",
       "      <td>5</td>\n",
       "      <td>Perfect product!</td>\n",
       "      <td>Value for money❤️❤️\\nIts awesome mobile phone ...</td>\n",
       "    </tr>\n",
       "    <tr>\n",
       "      <th>97</th>\n",
       "      <td>5</td>\n",
       "      <td>Highly recommended</td>\n",
       "      <td>iphone 11 is a very good phone to buy only if ...</td>\n",
       "    </tr>\n",
       "    <tr>\n",
       "      <th>98</th>\n",
       "      <td>5</td>\n",
       "      <td>Perfect product!</td>\n",
       "      <td>It is just awesome mobile for this price from ...</td>\n",
       "    </tr>\n",
       "    <tr>\n",
       "      <th>99</th>\n",
       "      <td>5</td>\n",
       "      <td>Highly recommended</td>\n",
       "      <td>Thanks Flipkart For this amazing deal! I had a...</td>\n",
       "    </tr>\n",
       "  </tbody>\n",
       "</table>\n",
       "<p>100 rows × 3 columns</p>\n",
       "</div>"
      ],
      "text/plain": [
       "   Rating       Review Summary  \\\n",
       "0       5       Simply awesome   \n",
       "1       5     Perfect product!   \n",
       "2       5  Best in the market!   \n",
       "3       4      Value-for-money   \n",
       "4       5   Highly recommended   \n",
       "..    ...                  ...   \n",
       "95      4          Good choice   \n",
       "96      5     Perfect product!   \n",
       "97      5   Highly recommended   \n",
       "98      5     Perfect product!   \n",
       "99      5   Highly recommended   \n",
       "\n",
       "                                          Full Review  \n",
       "0   Really satisfied with the Product I received.....  \n",
       "1   Amazing phone with great cameras and better ba...  \n",
       "2   Great iPhone very snappy experience as apple k...  \n",
       "3   I'm Really happy with the product\\nDelivery wa...  \n",
       "4   It's my first time to use iOS phone and I am l...  \n",
       "..                                                ...  \n",
       "95  So far it’s been an AMAZING experience coming ...  \n",
       "96  Value for money❤️❤️\\nIts awesome mobile phone ...  \n",
       "97  iphone 11 is a very good phone to buy only if ...  \n",
       "98  It is just awesome mobile for this price from ...  \n",
       "99  Thanks Flipkart For this amazing deal! I had a...  \n",
       "\n",
       "[100 rows x 3 columns]"
      ]
     },
     "execution_count": 26,
     "metadata": {},
     "output_type": "execute_result"
    }
   ],
   "source": [
    "df = pd.DataFrame({'Rating':Rating,'Review Summary':Review_summary,'Full Review':Full_review})\n",
    "df"
   ]
  },
  {
   "cell_type": "code",
   "execution_count": 38,
   "id": "f8ea3150",
   "metadata": {},
   "outputs": [],
   "source": [
    "#6\n",
    "driver = webdriver.Chrome(r'C:\\New folder\\webdriver.exe')"
   ]
  },
  {
   "cell_type": "code",
   "execution_count": 39,
   "id": "136219cb",
   "metadata": {},
   "outputs": [],
   "source": [
    "driver.get('http://www.flipkart.com/')"
   ]
  },
  {
   "cell_type": "code",
   "execution_count": 40,
   "id": "0abd669d",
   "metadata": {},
   "outputs": [],
   "source": [
    "product = driver.find_element(By.CLASS_NAME,'_3704LK')\n",
    "product.send_keys('Sneakers')"
   ]
  },
  {
   "cell_type": "code",
   "execution_count": 43,
   "id": "13a44ed1",
   "metadata": {},
   "outputs": [],
   "source": [
    "search = driver.find_element(By.CLASS_NAME,'L0Z3Pu')\n",
    "search.click()"
   ]
  },
  {
   "cell_type": "code",
   "execution_count": 42,
   "id": "24911dc5",
   "metadata": {},
   "outputs": [],
   "source": [
    "Brand = []\n",
    "Product_discription = []\n",
    "Price = []"
   ]
  },
  {
   "cell_type": "code",
   "execution_count": 34,
   "id": "86495bf4",
   "metadata": {},
   "outputs": [],
   "source": [
    "start = 0 \n",
    "end = 3\n",
    "for page in range(start,end):\n",
    "    brand_name = driver.find_elements(By.XPATH,'//div[@class=\"_2WkVRV\"]')\n",
    "    for i in brand_name:\n",
    "        Brand.append(i.text)\n",
    "    next_button = driver.find_element(By.XPATH,'//a[@class=\"_1LKTO3\"]')\n",
    "    next_button.click()\n",
    "    time.sleep(5)\n",
    "    \n",
    "    \n",
    "for page in range(start,end):\n",
    "    pro_dis = driver.find_elements(By.XPATH,'//a[@class=\"IRpwTa\"]')\n",
    "    for i in pro_dis:\n",
    "        Product_discription.append(i.text)\n",
    "    next_button = driver.find_element(By.XPATH,'//a[@class=\"_1LKTO3\"]')\n",
    "    next_button.click()\n",
    "    time.sleep(5)\n",
    "for page in range(start,end):\n",
    "    pro_dis = driver.find_elements(By.XPATH,'//a[@class=\"IRpwTa _2-ICcC\"]')\n",
    "    for i in pro_dis:\n",
    "        Product_discription.append(i.text)\n",
    "    next_button = driver.find_element(By.XPATH,'//a[@class=\"_1LKTO3\"]')\n",
    "    next_button.click()\n",
    "    time.sleep(5)\n",
    "\n",
    "    \n",
    "for page in range(start,end):\n",
    "    price = driver.find_elements(By.XPATH,'//div[@class=\"_30jeq3\"]')\n",
    "    for i in price:\n",
    "        Price.append(i.text)\n",
    "    next_button = driver.find_element(By.XPATH,'//a[@class=\"_1LKTO3\"]')\n",
    "    next_button.click()\n",
    "    time.sleep(5)"
   ]
  },
  {
   "cell_type": "code",
   "execution_count": 35,
   "id": "6191594b",
   "metadata": {},
   "outputs": [
    {
     "name": "stdout",
     "output_type": "stream",
     "text": [
      "120 122 120\n"
     ]
    }
   ],
   "source": [
    "print(len(Brand),len(Product_discription),len(Price))"
   ]
  },
  {
   "cell_type": "code",
   "execution_count": 36,
   "id": "19ee5066",
   "metadata": {},
   "outputs": [
    {
     "data": {
      "text/html": [
       "<div>\n",
       "<style scoped>\n",
       "    .dataframe tbody tr th:only-of-type {\n",
       "        vertical-align: middle;\n",
       "    }\n",
       "\n",
       "    .dataframe tbody tr th {\n",
       "        vertical-align: top;\n",
       "    }\n",
       "\n",
       "    .dataframe thead th {\n",
       "        text-align: right;\n",
       "    }\n",
       "</style>\n",
       "<table border=\"1\" class=\"dataframe\">\n",
       "  <thead>\n",
       "    <tr style=\"text-align: right;\">\n",
       "      <th></th>\n",
       "      <th>Brand</th>\n",
       "      <th>Product discription</th>\n",
       "      <th>Price</th>\n",
       "    </tr>\n",
       "  </thead>\n",
       "  <tbody>\n",
       "    <tr>\n",
       "      <th>0</th>\n",
       "      <td>RED TAPE</td>\n",
       "      <td>2006 Trenddy Fashion Sporty Casuals Sneakers R...</td>\n",
       "      <td>₹399</td>\n",
       "    </tr>\n",
       "    <tr>\n",
       "      <th>1</th>\n",
       "      <td>HIGHLANDER</td>\n",
       "      <td>5011-Latest Collection Stylish &amp; Trendy Casual...</td>\n",
       "      <td>₹499</td>\n",
       "    </tr>\n",
       "    <tr>\n",
       "      <th>2</th>\n",
       "      <td>Kraasa</td>\n",
       "      <td>ACTIVE RUN Sneakers For Men</td>\n",
       "      <td>₹199</td>\n",
       "    </tr>\n",
       "    <tr>\n",
       "      <th>3</th>\n",
       "      <td>GVR</td>\n",
       "      <td>Mesh |Lightweight|Comfort|Summer|Trendy|Walkin...</td>\n",
       "      <td>₹1,047</td>\n",
       "    </tr>\n",
       "    <tr>\n",
       "      <th>4</th>\n",
       "      <td>PUMA</td>\n",
       "      <td>Sneakers For Men</td>\n",
       "      <td>₹282</td>\n",
       "    </tr>\n",
       "    <tr>\n",
       "      <th>...</th>\n",
       "      <td>...</td>\n",
       "      <td>...</td>\n",
       "      <td>...</td>\n",
       "    </tr>\n",
       "    <tr>\n",
       "      <th>95</th>\n",
       "      <td>BRUTON</td>\n",
       "      <td>Synthetic Leather |Lightweight|Comfort|Summer|...</td>\n",
       "      <td>₹599</td>\n",
       "    </tr>\n",
       "    <tr>\n",
       "      <th>96</th>\n",
       "      <td>Sparx</td>\n",
       "      <td>Sneakers For Women</td>\n",
       "      <td>₹1,319</td>\n",
       "    </tr>\n",
       "    <tr>\n",
       "      <th>97</th>\n",
       "      <td>HIGHLANDER</td>\n",
       "      <td>2 Combo Sneaker Shoes Sneakers For Men</td>\n",
       "      <td>₹399</td>\n",
       "    </tr>\n",
       "    <tr>\n",
       "      <th>98</th>\n",
       "      <td>U.S. POLO ASSN.</td>\n",
       "      <td>SM-671 Sneakers For Men</td>\n",
       "      <td>₹449</td>\n",
       "    </tr>\n",
       "    <tr>\n",
       "      <th>99</th>\n",
       "      <td>aadi</td>\n",
       "      <td>Future-04 casual shoes for men | Latest Stylis...</td>\n",
       "      <td>₹799</td>\n",
       "    </tr>\n",
       "  </tbody>\n",
       "</table>\n",
       "<p>100 rows × 3 columns</p>\n",
       "</div>"
      ],
      "text/plain": [
       "              Brand                                Product discription   Price\n",
       "0          RED TAPE  2006 Trenddy Fashion Sporty Casuals Sneakers R...    ₹399\n",
       "1        HIGHLANDER  5011-Latest Collection Stylish & Trendy Casual...    ₹499\n",
       "2            Kraasa                        ACTIVE RUN Sneakers For Men    ₹199\n",
       "3               GVR  Mesh |Lightweight|Comfort|Summer|Trendy|Walkin...  ₹1,047\n",
       "4              PUMA                                   Sneakers For Men    ₹282\n",
       "..              ...                                                ...     ...\n",
       "95           BRUTON  Synthetic Leather |Lightweight|Comfort|Summer|...    ₹599\n",
       "96            Sparx                                 Sneakers For Women  ₹1,319\n",
       "97       HIGHLANDER             2 Combo Sneaker Shoes Sneakers For Men    ₹399\n",
       "98  U.S. POLO ASSN.                            SM-671 Sneakers For Men    ₹449\n",
       "99             aadi  Future-04 casual shoes for men | Latest Stylis...    ₹799\n",
       "\n",
       "[100 rows x 3 columns]"
      ]
     },
     "execution_count": 36,
     "metadata": {},
     "output_type": "execute_result"
    }
   ],
   "source": [
    "df = pd.DataFrame({'Brand':Brand[0:100],'Product discription':Product_discription[0:100],'Price':Price[0:100]})\n",
    "df"
   ]
  },
  {
   "cell_type": "code",
   "execution_count": 79,
   "id": "896b8c0a",
   "metadata": {},
   "outputs": [],
   "source": [
    "#7\n",
    "driver = webdriver.Chrome(r'C:\\New folder\\webdriver.exe')"
   ]
  },
  {
   "cell_type": "code",
   "execution_count": 80,
   "id": "754d5dc3",
   "metadata": {},
   "outputs": [],
   "source": [
    "driver.get('https://www.amazon.in/')driver.get('https://www.amazon.in/')"
   ]
  },
  {
   "cell_type": "code",
   "execution_count": 81,
   "id": "ea3c2013",
   "metadata": {},
   "outputs": [],
   "source": [
    "product = driver.find_element(By.XPATH,'/html/body/div[1]/header/div/div[1]/div[2]/div/form/div[2]/div[1]/input')\n",
    "product.send_keys('Laptop')"
   ]
  },
  {
   "cell_type": "code",
   "execution_count": 82,
   "id": "2e0fad9c",
   "metadata": {},
   "outputs": [],
   "source": [
    "search = driver.find_element(By.CLASS_NAME,'nav-right')\n",
    "search.click()"
   ]
  },
  {
   "cell_type": "code",
   "execution_count": 78,
   "id": "e03fa357",
   "metadata": {},
   "outputs": [],
   "source": [
    "tags = driver.find_element(By.XPATH,'//span[@class=\"nav-search-submit-text nav-sprite nav-progressive-attribute\"]')\n",
    "tags.click()"
   ]
  },
  {
   "cell_type": "code",
   "execution_count": 66,
   "id": "b5cb73e3",
   "metadata": {},
   "outputs": [],
   "source": [
    "Title = []\n",
    "Ratings = []\n",
    "Price = []"
   ]
  },
  {
   "cell_type": "code",
   "execution_count": 67,
   "id": "545c1b58",
   "metadata": {},
   "outputs": [],
   "source": [
    "start = 0\n",
    "end = 5\n",
    "for page in range(start,end):\n",
    "    title_tags = driver.find_elements(By.XPATH,'//div[@class=\"a-section a-spacing-none puis-padding-right-small s-title-instructions-style\"]')\n",
    "    for i in title_tags:\n",
    "        Title.append(i.text)\n",
    "    next_page = driver.find_element(By.XPATH,'//a[@class=\"s-pagination-item s-pagination-next s-pagination-button s-pagination-separator\"]')\n",
    "    next_page.click()\n",
    "    time.sleep(3)\n",
    "\n",
    "for page in range(start,end):\n",
    "    ratings_tags = driver.find_elements(By.XPATH,'//span[@class=\"a-icon-alt\"]')\n",
    "    for i in ratings_tags:\n",
    "        Ratings.append(i.text)\n",
    "    next_page = driver.find_element(By.XPATH,'//a[@class=\"s-pagination-item s-pagination-next s-pagination-button s-pagination-separator\"]')\n",
    "    next_page.click()\n",
    "    time.sleep(3)\n",
    "    \n",
    "for page in range(start,end):\n",
    "    price_tags = driver.find_elements(By.XPATH,'//span[@class=\"a-price-whole\"]')\n",
    "    for i in price_tags:\n",
    "        Price.append(i.text)\n",
    "    next_page = driver.find_element(By.XPATH,'//a[@class=\"s-pagination-item s-pagination-next s-pagination-button s-pagination-separator\"]')\n",
    "    next_page.click()\n",
    "    time.sleep(3)"
   ]
  },
  {
   "cell_type": "code",
   "execution_count": 68,
   "id": "0ffebf63",
   "metadata": {},
   "outputs": [
    {
     "name": "stdout",
     "output_type": "stream",
     "text": [
      "110 139 108\n"
     ]
    }
   ],
   "source": [
    "print(len(Title),len(Ratings),len(Price))"
   ]
  },
  {
   "cell_type": "code",
   "execution_count": 85,
   "id": "7010b79c",
   "metadata": {},
   "outputs": [
    {
     "data": {
      "text/html": [
       "<div>\n",
       "<style scoped>\n",
       "    .dataframe tbody tr th:only-of-type {\n",
       "        vertical-align: middle;\n",
       "    }\n",
       "\n",
       "    .dataframe tbody tr th {\n",
       "        vertical-align: top;\n",
       "    }\n",
       "\n",
       "    .dataframe thead th {\n",
       "        text-align: right;\n",
       "    }\n",
       "</style>\n",
       "<table border=\"1\" class=\"dataframe\">\n",
       "  <thead>\n",
       "    <tr style=\"text-align: right;\">\n",
       "      <th></th>\n",
       "      <th>Title</th>\n",
       "      <th>Ratings</th>\n",
       "      <th>Price</th>\n",
       "    </tr>\n",
       "  </thead>\n",
       "  <tbody>\n",
       "    <tr>\n",
       "      <th>0</th>\n",
       "      <td>Sponsored\\nHP Chromebook 11a, MediaTek MT8183 ...</td>\n",
       "      <td></td>\n",
       "      <td>54,990</td>\n",
       "    </tr>\n",
       "    <tr>\n",
       "      <th>1</th>\n",
       "      <td>Sponsored\\nHP Chromebook MediaTek Kompanio 500...</td>\n",
       "      <td></td>\n",
       "      <td>94,490</td>\n",
       "    </tr>\n",
       "    <tr>\n",
       "      <th>2</th>\n",
       "      <td>(Renewed) Dell Latitude E5470 Intel Core i5 6t...</td>\n",
       "      <td></td>\n",
       "      <td>22,509</td>\n",
       "    </tr>\n",
       "    <tr>\n",
       "      <th>3</th>\n",
       "      <td>HP 15s-Ryzen 3 3250U 8GB SDRAM/256GB SSD 15.6i...</td>\n",
       "      <td></td>\n",
       "      <td>55,190</td>\n",
       "    </tr>\n",
       "    <tr>\n",
       "      <th>4</th>\n",
       "      <td>ASUS VivoBook 15 (2021), 15.6-inch (39.62 cm) ...</td>\n",
       "      <td></td>\n",
       "      <td>1,00,569</td>\n",
       "    </tr>\n",
       "    <tr>\n",
       "      <th>...</th>\n",
       "      <td>...</td>\n",
       "      <td>...</td>\n",
       "      <td>...</td>\n",
       "    </tr>\n",
       "    <tr>\n",
       "      <th>95</th>\n",
       "      <td>Mi Notebook Pro QHD+ IPS Anti-Glare Display In...</td>\n",
       "      <td></td>\n",
       "      <td>89,490</td>\n",
       "    </tr>\n",
       "    <tr>\n",
       "      <th>96</th>\n",
       "      <td>ASUS VivoBook 14 (2021), Intel Core i5-1135G7 ...</td>\n",
       "      <td></td>\n",
       "      <td>84,500</td>\n",
       "    </tr>\n",
       "    <tr>\n",
       "      <th>97</th>\n",
       "      <td>ASUS Vivobook Pro 16, Intel Core i9 11th Gen, ...</td>\n",
       "      <td></td>\n",
       "      <td>1,03,990</td>\n",
       "    </tr>\n",
       "    <tr>\n",
       "      <th>98</th>\n",
       "      <td>Sponsored\\nLenovo IdeaPad Slim 3 Intel Core i5...</td>\n",
       "      <td></td>\n",
       "      <td>34,990</td>\n",
       "    </tr>\n",
       "    <tr>\n",
       "      <th>99</th>\n",
       "      <td>Sponsored\\nASUS Vivobook 14, 14.0-inch (35.56 ...</td>\n",
       "      <td></td>\n",
       "      <td>34,310</td>\n",
       "    </tr>\n",
       "  </tbody>\n",
       "</table>\n",
       "<p>100 rows × 3 columns</p>\n",
       "</div>"
      ],
      "text/plain": [
       "                                                Title Ratings     Price\n",
       "0   Sponsored\\nHP Chromebook 11a, MediaTek MT8183 ...            54,990\n",
       "1   Sponsored\\nHP Chromebook MediaTek Kompanio 500...            94,490\n",
       "2   (Renewed) Dell Latitude E5470 Intel Core i5 6t...            22,509\n",
       "3   HP 15s-Ryzen 3 3250U 8GB SDRAM/256GB SSD 15.6i...            55,190\n",
       "4   ASUS VivoBook 15 (2021), 15.6-inch (39.62 cm) ...          1,00,569\n",
       "..                                                ...     ...       ...\n",
       "95  Mi Notebook Pro QHD+ IPS Anti-Glare Display In...            89,490\n",
       "96  ASUS VivoBook 14 (2021), Intel Core i5-1135G7 ...            84,500\n",
       "97  ASUS Vivobook Pro 16, Intel Core i9 11th Gen, ...          1,03,990\n",
       "98  Sponsored\\nLenovo IdeaPad Slim 3 Intel Core i5...            34,990\n",
       "99  Sponsored\\nASUS Vivobook 14, 14.0-inch (35.56 ...            34,310\n",
       "\n",
       "[100 rows x 3 columns]"
      ]
     },
     "execution_count": 85,
     "metadata": {},
     "output_type": "execute_result"
    }
   ],
   "source": [
    "df = pd.DataFrame({'Title':Title[0:100],'Ratings':Ratings[0:100],'Price':Price[0:100]})\n",
    "df"
   ]
  },
  {
   "cell_type": "code",
   "execution_count": 141,
   "id": "1f250d97",
   "metadata": {},
   "outputs": [],
   "source": [
    "#8\n",
    "driver = webdriver.Chrome(r'C:\\New folder\\webdriver.exe')"
   ]
  },
  {
   "cell_type": "code",
   "execution_count": 142,
   "id": "f3a66796",
   "metadata": {},
   "outputs": [],
   "source": [
    "driver.get('http://www.azquotes.com/')"
   ]
  },
  {
   "cell_type": "code",
   "execution_count": 143,
   "id": "d43a5c9b",
   "metadata": {},
   "outputs": [],
   "source": [
    "quotes = driver.find_element(By.XPATH,'/html/body/div[1]/div[1]/div[1]/div/div[3]/ul/li[5]/a')\n",
    "quotes.click()"
   ]
  },
  {
   "cell_type": "code",
   "execution_count": 167,
   "id": "9a288da9",
   "metadata": {},
   "outputs": [],
   "source": [
    "Quote = []\n",
    "Author = []\n",
    "Types_of_quote = []"
   ]
  },
  {
   "cell_type": "code",
   "execution_count": 145,
   "id": "db48e2f4",
   "metadata": {},
   "outputs": [],
   "source": [
    "start = 0\n",
    "end = 10\n",
    "for page in range(start,end):\n",
    "    quote_tags = driver.find_elements(By.XPATH,'//a[@class=\"title\"]')\n",
    "    for i in quote_tags:\n",
    "        Quote.append(i.text)\n",
    "    next_page = driver.find_element(By.XPATH,'/html/body/div[1]/div[2]/div/div/div/div[1]/div/div[3]/li[12]/a')\n",
    "    next_page.click()\n",
    "    time.sleep(3)\n",
    "    \n",
    "for page in range(start,end):\n",
    "    author_tags = driver.find_elements(By.XPATH,'//div[@class=\"author\"]')\n",
    "    for i in author_tags:\n",
    "        Author.append(i.text)\n",
    "    next_page = driver.find_element(By.XPATH,'/html/body/div[1]/div[2]/div/div/div/div[1]/div/div[3]/li[12]/a')\n",
    "    next_page.click()\n",
    "    time.sleep(3)\n",
    "\n",
    "for page in range(start,end):\n",
    "    types_tags = driver.find_elements(By.XPATH,'//div[@class=\"tags\"]')\n",
    "    for i in types_tags:\n",
    "        Types_of_quote.append(i.text)\n",
    "    next_page = driver.find_element(By.XPATH,'/html/body/div[1]/div[2]/div/div/div/div[1]/div/div[3]/li[12]/a')\n",
    "    next_page.click()\n",
    "    time.sleep(3)    "
   ]
  },
  {
   "cell_type": "code",
   "execution_count": 140,
   "id": "89ecec61",
   "metadata": {},
   "outputs": [
    {
     "name": "stdout",
     "output_type": "stream",
     "text": [
      "1000 1000 1000\n"
     ]
    }
   ],
   "source": [
    "print(len(Quote),len(Author),len(Types_of_quote))"
   ]
  },
  {
   "cell_type": "code",
   "execution_count": 146,
   "id": "a5baabec",
   "metadata": {
    "scrolled": true
   },
   "outputs": [
    {
     "data": {
      "text/html": [
       "<div>\n",
       "<style scoped>\n",
       "    .dataframe tbody tr th:only-of-type {\n",
       "        vertical-align: middle;\n",
       "    }\n",
       "\n",
       "    .dataframe tbody tr th {\n",
       "        vertical-align: top;\n",
       "    }\n",
       "\n",
       "    .dataframe thead th {\n",
       "        text-align: right;\n",
       "    }\n",
       "</style>\n",
       "<table border=\"1\" class=\"dataframe\">\n",
       "  <thead>\n",
       "    <tr style=\"text-align: right;\">\n",
       "      <th></th>\n",
       "      <th>Quote</th>\n",
       "      <th>Author</th>\n",
       "      <th>Types of quote</th>\n",
       "    </tr>\n",
       "  </thead>\n",
       "  <tbody>\n",
       "    <tr>\n",
       "      <th>0</th>\n",
       "      <td>The essence of strategy is choosing what not t...</td>\n",
       "      <td>Amelia Earhart</td>\n",
       "      <td>Inspirational, Life, Success</td>\n",
       "    </tr>\n",
       "    <tr>\n",
       "      <th>1</th>\n",
       "      <td>One cannot and must not try to erase the past ...</td>\n",
       "      <td>Ludwig von Mises</td>\n",
       "      <td>Peace, War, Government</td>\n",
       "    </tr>\n",
       "    <tr>\n",
       "      <th>2</th>\n",
       "      <td>Patriotism means to stand by the country. It d...</td>\n",
       "      <td>Elizabeth Cady Stanton</td>\n",
       "      <td>Life, Strength, Courage</td>\n",
       "    </tr>\n",
       "    <tr>\n",
       "      <th>3</th>\n",
       "      <td>Death is something inevitable. When a man has ...</td>\n",
       "      <td>Benjamin Spock</td>\n",
       "      <td>Positive, Family, Trust</td>\n",
       "    </tr>\n",
       "    <tr>\n",
       "      <th>4</th>\n",
       "      <td>You have to love a nation that celebrates its ...</td>\n",
       "      <td>Charles Kettering</td>\n",
       "      <td>Inspirational, Motivational, Teacher</td>\n",
       "    </tr>\n",
       "    <tr>\n",
       "      <th>...</th>\n",
       "      <td>...</td>\n",
       "      <td>...</td>\n",
       "      <td>...</td>\n",
       "    </tr>\n",
       "    <tr>\n",
       "      <th>995</th>\n",
       "      <td>Regret for the things we did can be tempered b...</td>\n",
       "      <td>Sydney J. Harris</td>\n",
       "      <td>Love, Inspirational, Motivational</td>\n",
       "    </tr>\n",
       "    <tr>\n",
       "      <th>996</th>\n",
       "      <td>America... just a nation of two hundred millio...</td>\n",
       "      <td>Hunter S. Thompson</td>\n",
       "      <td>Gun, Two, Qualms About</td>\n",
       "    </tr>\n",
       "    <tr>\n",
       "      <th>997</th>\n",
       "      <td>For every disciplined effort there is a multip...</td>\n",
       "      <td>Jim Rohn</td>\n",
       "      <td>Inspirational, Greatness, Best Effort</td>\n",
       "    </tr>\n",
       "    <tr>\n",
       "      <th>998</th>\n",
       "      <td>The spiritual journey is individual, highly pe...</td>\n",
       "      <td>Ram Dass</td>\n",
       "      <td>Spiritual, Truth, Yoga</td>\n",
       "    </tr>\n",
       "    <tr>\n",
       "      <th>999</th>\n",
       "      <td>The mind is not a vessel to be filled but a fi...</td>\n",
       "      <td>Plutarch</td>\n",
       "      <td>Inspirational, Leadership, Education</td>\n",
       "    </tr>\n",
       "  </tbody>\n",
       "</table>\n",
       "<p>1000 rows × 3 columns</p>\n",
       "</div>"
      ],
      "text/plain": [
       "                                                 Quote  \\\n",
       "0    The essence of strategy is choosing what not t...   \n",
       "1    One cannot and must not try to erase the past ...   \n",
       "2    Patriotism means to stand by the country. It d...   \n",
       "3    Death is something inevitable. When a man has ...   \n",
       "4    You have to love a nation that celebrates its ...   \n",
       "..                                                 ...   \n",
       "995  Regret for the things we did can be tempered b...   \n",
       "996  America... just a nation of two hundred millio...   \n",
       "997  For every disciplined effort there is a multip...   \n",
       "998  The spiritual journey is individual, highly pe...   \n",
       "999  The mind is not a vessel to be filled but a fi...   \n",
       "\n",
       "                     Author                         Types of quote  \n",
       "0            Amelia Earhart           Inspirational, Life, Success  \n",
       "1          Ludwig von Mises                 Peace, War, Government  \n",
       "2    Elizabeth Cady Stanton                Life, Strength, Courage  \n",
       "3            Benjamin Spock                Positive, Family, Trust  \n",
       "4         Charles Kettering   Inspirational, Motivational, Teacher  \n",
       "..                      ...                                    ...  \n",
       "995        Sydney J. Harris      Love, Inspirational, Motivational  \n",
       "996      Hunter S. Thompson                 Gun, Two, Qualms About  \n",
       "997                Jim Rohn  Inspirational, Greatness, Best Effort  \n",
       "998                Ram Dass                 Spiritual, Truth, Yoga  \n",
       "999                Plutarch   Inspirational, Leadership, Education  \n",
       "\n",
       "[1000 rows x 3 columns]"
      ]
     },
     "execution_count": 146,
     "metadata": {},
     "output_type": "execute_result"
    }
   ],
   "source": [
    "df = pd.DataFrame({'Quote':Quote,'Author':Author,'Types of quote':Types_of_quote})\n",
    "df"
   ]
  },
  {
   "cell_type": "code",
   "execution_count": 2,
   "id": "3d5b2e2c",
   "metadata": {},
   "outputs": [],
   "source": [
    "#9\n",
    "driver = webdriver.Chrome(r'C:\\New folder\\webdriver.exe')"
   ]
  },
  {
   "cell_type": "code",
   "execution_count": 3,
   "id": "6f8ff1ff",
   "metadata": {},
   "outputs": [],
   "source": [
    "driver.get('http://www.jagranjosh.com/')"
   ]
  },
  {
   "cell_type": "code",
   "execution_count": 4,
   "id": "21dc787c",
   "metadata": {},
   "outputs": [],
   "source": [
    "gk_tags = driver.find_element(By.XPATH,'/html/body/div/div[1]/div/div[1]/div/div[6]/div/div[1]/header/div[3]/ul/li[9]/a')\n",
    "gk_tags.click()"
   ]
  },
  {
   "cell_type": "code",
   "execution_count": 5,
   "id": "3a5e610e",
   "metadata": {},
   "outputs": [],
   "source": [
    "minister_tags = driver.find_element(By.XPATH,'/html/body/div/div/div/div[2]/div/div[10]/div/div/ul/li[2]/a')\n",
    "minister_tags.click()"
   ]
  },
  {
   "cell_type": "code",
   "execution_count": 6,
   "id": "3e96b04e",
   "metadata": {},
   "outputs": [],
   "source": [
    "Name = []\n",
    "Born_Dead = []\n",
    "Term_of_office = []\n",
    "Remarks = []"
   ]
  },
  {
   "cell_type": "code",
   "execution_count": 7,
   "id": "208cbddd",
   "metadata": {},
   "outputs": [
    {
     "data": {
      "text/plain": [
       "['Jawahar Lal Nehru']"
      ]
     },
     "execution_count": 7,
     "metadata": {},
     "output_type": "execute_result"
    }
   ],
   "source": [
    "name_tags = driver.find_elements(By.XPATH,'/html/body/div[1]/div[2]/div/div[2]/div/div[1]/div/div/div/div[4]/span/div[2]/table/tbody/tr[2]/td[2]/p/strong/a')\n",
    "for i in name_tags:\n",
    "    Name.append(i.text)\n",
    "Name"
   ]
  },
  {
   "cell_type": "code",
   "execution_count": 8,
   "id": "d9bc0d3f",
   "metadata": {},
   "outputs": [],
   "source": [
    "#10\n",
    "driver = webdriver.Chrome(r'C:\\New folder\\webdriver.exe')"
   ]
  },
  {
   "cell_type": "code",
   "execution_count": 9,
   "id": "8102a9bd",
   "metadata": {},
   "outputs": [],
   "source": [
    "driver.get('https://www.motor1.com/')"
   ]
  },
  {
   "cell_type": "code",
   "execution_count": 10,
   "id": "864bd461",
   "metadata": {},
   "outputs": [],
   "source": [
    "features_tags = driver.find_element(By.XPATH,'//li[@class=\"grand left top mobile dropdown\"]')\n",
    "features_tags.click()"
   ]
  },
  {
   "cell_type": "code",
   "execution_count": 11,
   "id": "cfc273c8",
   "metadata": {},
   "outputs": [],
   "source": [
    "list_tags = driver.find_element(By.XPATH,'//a[@href=\"/features/category/lists/\"][1]')\n",
    "list_tags.click()"
   ]
  },
  {
   "cell_type": "code",
   "execution_count": 12,
   "id": "00926549",
   "metadata": {},
   "outputs": [],
   "source": [
    "top_tags = driver.find_element(By.XPATH,'//a[@href=\"/features/308149/most-expensive-new-cars-ever/\"]')\n",
    "top_tags.click()"
   ]
  },
  {
   "cell_type": "code",
   "execution_count": 13,
   "id": "ee831d5b",
   "metadata": {},
   "outputs": [],
   "source": [
    "Name = []\n",
    "Price = []"
   ]
  },
  {
   "cell_type": "code",
   "execution_count": 14,
   "id": "c300150d",
   "metadata": {},
   "outputs": [],
   "source": [
    "name_tags = driver.find_elements(By.XPATH,'//h3[@class=\"subheader\"]')\n",
    "for i in name_tags[0:50]:\n",
    "    Name.append(i.text)\n",
    "    time.sleep(3)\n"
   ]
  },
  {
   "cell_type": "code",
   "execution_count": 50,
   "id": "80751634",
   "metadata": {},
   "outputs": [
    {
     "data": {
      "text/plain": [
       "50"
      ]
     },
     "execution_count": 50,
     "metadata": {},
     "output_type": "execute_result"
    }
   ],
   "source": [
    "len(Name)"
   ]
  },
  {
   "cell_type": "code",
   "execution_count": null,
   "id": "eed8ebaf",
   "metadata": {},
   "outputs": [],
   "source": []
  }
 ],
 "metadata": {
  "kernelspec": {
   "display_name": "Python 3 (ipykernel)",
   "language": "python",
   "name": "python3"
  },
  "language_info": {
   "codemirror_mode": {
    "name": "ipython",
    "version": 3
   },
   "file_extension": ".py",
   "mimetype": "text/x-python",
   "name": "python",
   "nbconvert_exporter": "python",
   "pygments_lexer": "ipython3",
   "version": "3.9.13"
  }
 },
 "nbformat": 4,
 "nbformat_minor": 5
}
